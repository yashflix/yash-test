{
 "cells": [
  {
   "cell_type": "code",
   "execution_count": 1,
   "metadata": {},
   "outputs": [],
   "source": [
    "#using fuctions and for loop to create a simple working calculator that can perofm simple arithmetic fuctions"
   ]
  },
  {
   "cell_type": "code",
   "execution_count": 1,
   "metadata": {},
   "outputs": [],
   "source": [
    "#defing all the necessary functions \n",
    "def add(y, r):\n",
    "    return y + r\n",
    "\n",
    "def sub(y, r):\n",
    "    return  y - r\n",
    "\n",
    "def multi(y ,r):\n",
    "    return y * r \n",
    "\n",
    "def div(y ,r):\n",
    "    if y == 0:\n",
    "        return \"Error\"\n",
    "    return y / r"
   ]
  },
  {
   "cell_type": "code",
   "execution_count": 11,
   "metadata": {},
   "outputs": [
    {
     "name": "stdout",
     "output_type": "stream",
     "text": [
      "\n",
      "choose opreations\n",
      "1. Addition\n",
      "2. Subtraction\n",
      "3. Multiplication\n",
      "4. Division\n",
      "5.0\n"
     ]
    }
   ],
   "source": [
    "def cal():\n",
    "   opreations = {\n",
    "      '1': add,\n",
    "      '2': sub,\n",
    "      '3': multi,\n",
    "      '4': div,\n",
    "   \n",
    "   }\n",
    "   while True:\n",
    "    print(\"\\nchoose opreations\")\n",
    "    print(\"1. Addition\")\n",
    "    print(\"2. Subtraction\")\n",
    "    print(\"3. Multiplication\")\n",
    "    print(\"4. Division\")\n",
    "    choice = input('enter a number')\n",
    "\n",
    "    if choice in opreations:\n",
    "        try:\n",
    "            n1 = float(input('enter first number'))\n",
    "            n2 = float(input('enter second number'))\n",
    "        except ValueError:\n",
    "            print('invalid input')\n",
    "            continue\n",
    "\n",
    "        operation = opreations[choice]\n",
    "        result = operation(n1,n2)\n",
    "        if result is not None:\n",
    "           print(result)\n",
    "\n",
    "        continue_cal = input(\"continue yes/no: \")\n",
    "        if continue_cal.lower() != 'yes':\n",
    "           break\n",
    "        else:\n",
    "           print(\"invalid input\")\n",
    "if __name__ == \"__main__\":\n",
    "   cal()"
   ]
  },
  {
   "cell_type": "code",
   "execution_count": null,
   "metadata": {},
   "outputs": [],
   "source": []
  },
  {
   "cell_type": "code",
   "execution_count": null,
   "metadata": {},
   "outputs": [],
   "source": []
  }
 ],
 "metadata": {
  "kernelspec": {
   "display_name": "Python 3 (ipykernel)",
   "language": "python",
   "name": "python3"
  },
  "language_info": {
   "codemirror_mode": {
    "name": "ipython",
    "version": 3
   },
   "file_extension": ".py",
   "mimetype": "text/x-python",
   "name": "python",
   "nbconvert_exporter": "python",
   "pygments_lexer": "ipython3",
   "version": "3.11.7"
  }
 },
 "nbformat": 4,
 "nbformat_minor": 4
}
