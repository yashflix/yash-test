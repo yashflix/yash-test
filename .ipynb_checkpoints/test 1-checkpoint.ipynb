{
 "cells": [
  {
   "cell_type": "code",
   "execution_count": 1,
   "metadata": {},
   "outputs": [],
   "source": [
    "#using fuctions and for loop to create a simple working calculator that can perofm simple arithmetic fuctions"
   ]
  },
  {
   "cell_type": "code",
   "execution_count": 3,
   "metadata": {},
   "outputs": [],
   "source": [
    "#defing all the necessary functions \n",
    "def add(y, r):\n",
    "    return y + r\n",
    "\n",
    "def sub(y, r):\n",
    "    return  y - r\n",
    "\n",
    "def multi(y ,r):\n",
    "    return y * r \n",
    "\n",
    "def div(y ,r):\n",
    "    if y == 0:\n",
    "        return \"Error\"\n",
    "    return y / r"
   ]
  },
  {
   "cell_type": "code",
   "execution_count": null,
   "metadata": {},
   "outputs": [],
   "source": []
  },
  {
   "cell_type": "code",
   "execution_count": 3,
   "metadata": {},
   "outputs": [],
   "source": [
    "#user menu to choose from the give functions\n",
    "def cal():\n",
    "    opreations = {\n",
    "        '1' : add,\n",
    "        '2' : sub,\n",
    "        '3' : multi,\n",
    "        '4' : div\n",
    "} \n",
    "while True:\n",
    "    print(\"\\nChoose an operation:\")\n",
    "    print(\"1. Add\")\n",
    "    print(\"2. Subtract\")\n",
    "    print(\"3. Multiply\")\n",
    "    print(\"4. Divide\")\n",
    "    choice = input(\"Provide a number: \")\n",
    "\n",
    "    if choice in options:\n",
    "        "
   ]
  },
  {
   "cell_type": "code",
   "execution_count": null,
   "metadata": {},
   "outputs": [],
   "source": [
    "\n",
    "\n",
    "\n",
    "\n",
    "\n"
   ]
  },
  {
   "cell_type": "code",
   "execution_count": null,
   "metadata": {},
   "outputs": [],
   "source": []
  },
  {
   "cell_type": "code",
   "execution_count": null,
   "metadata": {},
   "outputs": [],
   "source": []
  }
 ],
 "metadata": {
  "kernelspec": {
   "display_name": "Python 3",
   "language": "python",
   "name": "python3"
  },
  "language_info": {
   "codemirror_mode": {
    "name": "ipython",
    "version": 3
   },
   "file_extension": ".py",
   "mimetype": "text/x-python",
   "name": "python",
   "nbconvert_exporter": "python",
   "pygments_lexer": "ipython3",
   "version": "3.11.7"
  }
 },
 "nbformat": 4,
 "nbformat_minor": 2
}
